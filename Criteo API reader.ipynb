{
 "metadata": {
  "name": "",
  "signature": "sha256:d7c7c636071887b9d1e1c9157d0e0029e64cbbe471a5e5a6968ef2fbbe8b02ea"
 },
 "nbformat": 3,
 "nbformat_minor": 0,
 "worksheets": [
  {
   "cells": [
    {
     "cell_type": "code",
     "collapsed": false,
     "input": [
      "placeholder for criteo api reader"
     ],
     "language": "python",
     "metadata": {},
     "outputs": []
    }
   ],
   "metadata": {}
  }
 ]
}