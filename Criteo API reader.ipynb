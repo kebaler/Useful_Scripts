{
 "metadata": {
  "name": "",
  "signature": "sha256:ce7fc7d8ffd5deb646065771e4276f0a35ee583fd4f2cb11c672dd2d72d904d8"
 },
 "nbformat": 3,
 "nbformat_minor": 0,
 "worksheets": [
  {
   "cells": [
    {
     "cell_type": "code",
     "collapsed": false,
     "input": [
      "placeholder for criteo api reader"
     ],
     "language": "python",
     "metadata": {},
     "outputs": []
    },
    {
     "cell_type": "code",
     "collapsed": false,
     "input": [
      "https://docs.python.org/2/library/xml.etree.elementtree.html"
     ],
     "language": "python",
     "metadata": {},
     "outputs": []
    },
    {
     "cell_type": "code",
     "collapsed": false,
     "input": [
      "http://pandas.pydata.org/pandas-docs/dev/generated/pandas.io.parsers.read_csv.html"
     ],
     "language": "python",
     "metadata": {},
     "outputs": []
    }
   ],
   "metadata": {}
  }
 ]
}